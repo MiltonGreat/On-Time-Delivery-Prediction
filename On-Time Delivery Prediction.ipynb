{
 "cells": [
  {
   "cell_type": "markdown",
   "id": "4ba813b8-212a-4d8e-a56e-171b2c3198c8",
   "metadata": {},
   "source": [
    "# On-Time Delivery Prediction"
   ]
  },
  {
   "cell_type": "markdown",
   "id": "b30e6201-7b92-4586-81ca-cfa094f65726",
   "metadata": {},
   "source": [
    "### 1. Import Libraries"
   ]
  },
  {
   "cell_type": "code",
   "execution_count": 1,
   "id": "0aa3537d-f7a0-420e-a0df-0198318b44b5",
   "metadata": {},
   "outputs": [],
   "source": [
    "import pandas as pd\n",
    "import numpy as np\n",
    "import matplotlib.pyplot as plt\n",
    "import seaborn as sns\n",
    "from sklearn.model_selection import train_test_split, GridSearchCV\n",
    "from sklearn.preprocessing import StandardScaler, OneHotEncoder\n",
    "from sklearn.ensemble import RandomForestClassifier\n",
    "from sklearn.metrics import accuracy_score, precision_score, recall_score, f1_score, roc_auc_score, confusion_matrix, classification_report\n",
    "from imblearn.over_sampling import SMOTE\n",
    "from sklearn.feature_selection import SelectKBest, f_classif\n",
    "from sklearn.pipeline import Pipeline\n",
    "from sklearn.compose import ColumnTransformer\n",
    "import joblib\n",
    "import zipfile"
   ]
  },
  {
   "cell_type": "markdown",
   "id": "1b8c8da3-33f5-4084-ad3e-fff31f538557",
   "metadata": {},
   "source": [
    "### 2. Load Data"
   ]
  },
  {
   "cell_type": "code",
   "execution_count": 2,
   "id": "ffdacf22-f1ce-416a-823e-9998b0a1f53a",
   "metadata": {},
   "outputs": [
    {
     "name": "stdout",
     "output_type": "stream",
     "text": [
      "Data loaded successfully.\n",
      "Dataset Overview:\n",
      "<class 'pandas.core.frame.DataFrame'>\n",
      "RangeIndex: 10999 entries, 0 to 10998\n",
      "Data columns (total 12 columns):\n",
      " #   Column               Non-Null Count  Dtype \n",
      "---  ------               --------------  ----- \n",
      " 0   ID                   10999 non-null  int64 \n",
      " 1   Warehouse_block      10999 non-null  object\n",
      " 2   Mode_of_Shipment     10999 non-null  object\n",
      " 3   Customer_care_calls  10999 non-null  int64 \n",
      " 4   Customer_rating      10999 non-null  int64 \n",
      " 5   Cost_of_the_Product  10999 non-null  int64 \n",
      " 6   Prior_purchases      10999 non-null  int64 \n",
      " 7   Product_importance   10999 non-null  object\n",
      " 8   Gender               10999 non-null  object\n",
      " 9   Discount_offered     10999 non-null  int64 \n",
      " 10  Weight_in_gms        10999 non-null  int64 \n",
      " 11  Reached.on.Time_Y.N  10999 non-null  int64 \n",
      "dtypes: int64(8), object(4)\n",
      "memory usage: 1.0+ MB\n",
      "None\n",
      "\n",
      "First 5 Rows:\n",
      "   ID Warehouse_block Mode_of_Shipment  Customer_care_calls  Customer_rating  \\\n",
      "0   1               D           Flight                    4                2   \n",
      "1   2               F           Flight                    4                5   \n",
      "2   3               A           Flight                    2                2   \n",
      "3   4               B           Flight                    3                3   \n",
      "4   5               C           Flight                    2                2   \n",
      "\n",
      "   Cost_of_the_Product  Prior_purchases Product_importance Gender  \\\n",
      "0                  177                3                low      F   \n",
      "1                  216                2                low      M   \n",
      "2                  183                4                low      M   \n",
      "3                  176                4             medium      M   \n",
      "4                  184                3             medium      F   \n",
      "\n",
      "   Discount_offered  Weight_in_gms  Reached.on.Time_Y.N  \n",
      "0                44           1233                    1  \n",
      "1                59           3088                    1  \n",
      "2                48           3374                    1  \n",
      "3                10           1177                    1  \n",
      "4                46           2484                    1  \n",
      "\n",
      "Missing Values Summary:\n",
      "ID                     0\n",
      "Warehouse_block        0\n",
      "Mode_of_Shipment       0\n",
      "Customer_care_calls    0\n",
      "Customer_rating        0\n",
      "Cost_of_the_Product    0\n",
      "Prior_purchases        0\n",
      "Product_importance     0\n",
      "Gender                 0\n",
      "Discount_offered       0\n",
      "Weight_in_gms          0\n",
      "Reached.on.Time_Y.N    0\n",
      "dtype: int64\n"
     ]
    }
   ],
   "source": [
    "# Load Data\n",
    "def load_data(zip_path, file_name):\n",
    "    with zipfile.ZipFile(zip_path, 'r') as z:\n",
    "        z.extract(file_name)\n",
    "    data = pd.read_csv(file_name)\n",
    "    print(\"Data loaded successfully.\")\n",
    "    return data\n",
    "\n",
    "# Replace with the actual file name inside the ZIP file\n",
    "zip_path = 'On-Time Delivery.zip'\n",
    "file_name = 'Train new.csv'  # Adjust based on actual file\n",
    "data = load_data(zip_path, file_name)\n",
    "\n",
    "# Inspect the dataset\n",
    "print(\"Dataset Overview:\")\n",
    "print(data.info())\n",
    "print(\"\\nFirst 5 Rows:\")\n",
    "print(data.head())\n",
    "print(\"\\nMissing Values Summary:\")\n",
    "print(data.isnull().sum())"
   ]
  },
  {
   "cell_type": "markdown",
   "id": "b0ae03e9-b46d-43d8-ad03-825959867e79",
   "metadata": {},
   "source": [
    "### 3. Preprocess Data"
   ]
  },
  {
   "cell_type": "code",
   "execution_count": 3,
   "id": "aa978f78-9905-411a-8e99-16aa2ab9ccb6",
   "metadata": {},
   "outputs": [],
   "source": [
    "def preprocess_data(df):\n",
    "    # Create a copy to avoid modifying the original dataframe\n",
    "    df = df.copy()\n",
    "    \n",
    "    # Define categorical and numerical columns\n",
    "    categorical_cols = ['Warehouse_block', 'Mode_of_Shipment', 'Product_importance', 'Gender']\n",
    "    numerical_cols = ['Customer_care_calls', 'Customer_rating', 'Cost_of_the_Product', \n",
    "                     'Prior_purchases', 'Discount_offered', 'Weight_in_gms']\n",
    "    \n",
    "    # Handle missing values separately for numerical and categorical columns\n",
    "    # For numerical columns, fill with median\n",
    "    for col in numerical_cols:\n",
    "        if df[col].isnull().any():\n",
    "            df[col].fillna(df[col].median(), inplace=True)\n",
    "    \n",
    "    # For categorical columns, fill with mode\n",
    "    for col in categorical_cols:\n",
    "        if df[col].isnull().any():\n",
    "            df[col].fillna(df[col].mode()[0], inplace=True)\n",
    "    \n",
    "    # Preprocessing pipeline with handle_unknown='ignore'\n",
    "    preprocessor = ColumnTransformer(\n",
    "        transformers=[\n",
    "            ('num', StandardScaler(), numerical_cols),\n",
    "            ('cat', OneHotEncoder(drop='first', handle_unknown='ignore'), categorical_cols)\n",
    "        ])\n",
    "    \n",
    "    # Apply preprocessing\n",
    "    X = df.drop(columns=['Reached.on.Time_Y.N', 'ID'])  # Drop ID as it's not relevant\n",
    "    y = df['Reached.on.Time_Y.N']  # Target variable\n",
    "    \n",
    "    X_preprocessed = preprocessor.fit_transform(X)\n",
    "    \n",
    "    return X_preprocessed, y, preprocessor"
   ]
  },
  {
   "cell_type": "markdown",
   "id": "807325b3-0d71-4add-a55a-2e9c63c6f7be",
   "metadata": {},
   "source": [
    "### 4. Handle Class Imbalance with SMOTE"
   ]
  },
  {
   "cell_type": "code",
   "execution_count": 4,
   "id": "6328c86a-1fc3-4a07-b1cc-27c7de3278f5",
   "metadata": {},
   "outputs": [
    {
     "name": "stdout",
     "output_type": "stream",
     "text": [
      "\n",
      "Training Data Shape: (10500, 15)\n",
      "Testing Data Shape: (2200, 15)\n"
     ]
    }
   ],
   "source": [
    "# Run the preprocessing to get X and y\n",
    "X, y, preprocessor = preprocess_data(data)\n",
    "\n",
    "# Now split the data\n",
    "X_train, X_test, y_train, y_test = train_test_split(X, y, test_size=0.2, random_state=42, stratify=y)\n",
    "\n",
    "# Then apply SMOTE only to training data\n",
    "smote = SMOTE(random_state=42)\n",
    "X_train_resampled, y_train_resampled = smote.fit_resample(X_train, y_train)\n",
    "\n",
    "print(\"\\nTraining Data Shape:\", X_train_resampled.shape)\n",
    "print(\"Testing Data Shape:\", X_test.shape)"
   ]
  },
  {
   "cell_type": "markdown",
   "id": "11781a9e-315f-4a52-a6d6-434611754446",
   "metadata": {},
   "source": [
    "### 5. Train Model"
   ]
  },
  {
   "cell_type": "code",
   "execution_count": 5,
   "id": "74bd6cc9-8448-4f4c-a991-03ff17c29d37",
   "metadata": {},
   "outputs": [
    {
     "name": "stdout",
     "output_type": "stream",
     "text": [
      "\n",
      "Best Model Parameters: {'max_depth': None, 'min_samples_leaf': 1, 'min_samples_split': 2, 'n_estimators': 50}\n"
     ]
    }
   ],
   "source": [
    "# Model Training with Hyperparameter Tuning\n",
    "param_grid = {\n",
    "    'n_estimators': [50, 100, 200],\n",
    "    'max_depth': [None, 10, 20, 30],\n",
    "    'min_samples_split': [2, 5, 10],\n",
    "    'min_samples_leaf': [1, 2, 4]\n",
    "}\n",
    "\n",
    "model = RandomForestClassifier(random_state=42)\n",
    "grid_search = GridSearchCV(model, param_grid, cv=5, scoring='f1', n_jobs=-1)\n",
    "grid_search.fit(X_train_resampled, y_train_resampled)\n",
    "\n",
    "# Best model\n",
    "best_model = grid_search.best_estimator_\n",
    "print(\"\\nBest Model Parameters:\", grid_search.best_params_)"
   ]
  },
  {
   "cell_type": "markdown",
   "id": "e40e8554-b310-44de-a228-2f0a9641999d",
   "metadata": {},
   "source": [
    "### 6. Save the model"
   ]
  },
  {
   "cell_type": "code",
   "execution_count": 6,
   "id": "d56a7130-cc75-4a18-b966-e9d889f02e45",
   "metadata": {},
   "outputs": [
    {
     "name": "stdout",
     "output_type": "stream",
     "text": [
      "Model training complete. Model saved as 'on_time_delivery_model.pkl'.\n"
     ]
    }
   ],
   "source": [
    "joblib.dump(best_model, 'on_time_delivery_model.pkl')\n",
    "print(\"Model training complete. Model saved as 'on_time_delivery_model.pkl'.\")"
   ]
  },
  {
   "cell_type": "markdown",
   "id": "9a478c28-3029-4951-b0bc-6226c63666dd",
   "metadata": {},
   "source": [
    "### 7. Model Evaluation"
   ]
  },
  {
   "cell_type": "code",
   "execution_count": 7,
   "id": "4e23c930-bbda-428a-b463-f8600c80eb9d",
   "metadata": {},
   "outputs": [
    {
     "name": "stdout",
     "output_type": "stream",
     "text": [
      "Accuracy: 0.66\n",
      "Precision: 0.79\n",
      "Recall: 0.59\n",
      "F1-Score: 0.68\n",
      "ROC-AUC: 0.74\n"
     ]
    },
    {
     "data": {
      "image/png": "[encoded data removed]",
      "text/plain": [
       "<Figure size 800x600 with 2 Axes>"
      ]
     },
     "metadata": {},
     "output_type": "display_data"
    },
    {
     "name": "stdout",
     "output_type": "stream",
     "text": [
      "\n",
      "Classification Report:\n",
      "              precision    recall  f1-score   support\n",
      "\n",
      "           0       0.56      0.77      0.65       887\n",
      "           1       0.79      0.59      0.68      1313\n",
      "\n",
      "    accuracy                           0.66      2200\n",
      "   macro avg       0.67      0.68      0.66      2200\n",
      "weighted avg       0.70      0.66      0.66      2200\n",
      "\n"
     ]
    }
   ],
   "source": [
    "def evaluate_model(model, X_test, y_test):\n",
    "    predictions = model.predict(X_test)\n",
    "    probabilities = model.predict_proba(X_test)[:, 1]  # Probability of the positive class\n",
    "\n",
    "    # Classification Metrics\n",
    "    accuracy = accuracy_score(y_test, predictions)\n",
    "    precision = precision_score(y_test, predictions)\n",
    "    recall = recall_score(y_test, predictions)\n",
    "    f1 = f1_score(y_test, predictions)\n",
    "    roc_auc = roc_auc_score(y_test, probabilities)\n",
    "\n",
    "    print(f\"Accuracy: {accuracy:.2f}\")\n",
    "    print(f\"Precision: {precision:.2f}\")\n",
    "    print(f\"Recall: {recall:.2f}\")\n",
    "    print(f\"F1-Score: {f1:.2f}\")\n",
    "    print(f\"ROC-AUC: {roc_auc:.2f}\")\n",
    "\n",
    "    # Confusion Matrix\n",
    "    cm = confusion_matrix(y_test, predictions)\n",
    "    plt.figure(figsize=(8, 6))\n",
    "    sns.heatmap(cm, annot=True, fmt='d', cmap='Blues', xticklabels=['Not On Time', 'On Time'], yticklabels=['Not On Time', 'On Time'])\n",
    "    plt.title('Confusion Matrix')\n",
    "    plt.xlabel('Predicted')\n",
    "    plt.ylabel('Actual')\n",
    "    plt.show()\n",
    "\n",
    "    # Classification Report\n",
    "    print(\"\\nClassification Report:\")\n",
    "    print(classification_report(y_test, predictions))\n",
    "\n",
    "evaluate_model(best_model, X_test, y_test)\n"
   ]
  },
  {
   "cell_type": "markdown",
   "id": "a384a04a-5b6a-441e-a179-d5acec829e87",
   "metadata": {},
   "source": [
    "### 8. Make a Prediction"
   ]
  },
  {
   "cell_type": "code",
   "execution_count": 8,
   "id": "84b0a4c7-f743-4f9c-a0e7-9b6325c5f587",
   "metadata": {},
   "outputs": [
    {
     "name": "stdout",
     "output_type": "stream",
     "text": [
      "Predicted Delivery Status: On Time\n",
      "Confidence: 84.00%\n"
     ]
    },
    {
     "name": "stderr",
     "output_type": "stream",
     "text": [
      "C:\\Users\\milto\\anaconda3\\Lib\\site-packages\\sklearn\\preprocessing\\_encoders.py:242: UserWarning: Found unknown categories in columns [0, 1, 3] during transform. These unknown categories will be encoded as all zeros\n",
      "  warnings.warn(\n"
     ]
    }
   ],
   "source": [
    "def predict_on_time_delivery(model, new_data, preprocessor):\n",
    "    \"\"\"\n",
    "    Predict whether an order will be delivered on time.\n",
    "    \"\"\"\n",
    "    # Make a copy to avoid modifying original data\n",
    "    new_data = new_data.copy()\n",
    "    \n",
    "    # Define the expected column order\n",
    "    expected_columns = [\n",
    "        'Customer_care_calls', 'Customer_rating', 'Cost_of_the_Product',\n",
    "        'Prior_purchases', 'Discount_offered', 'Weight_in_gms',\n",
    "        'Warehouse_block', 'Mode_of_Shipment', 'Product_importance', 'Gender'\n",
    "    ]\n",
    "    \n",
    "    # Convert categorical variables to lowercase\n",
    "    categorical_cols = ['Warehouse_block', 'Mode_of_Shipment', 'Product_importance', 'Gender']\n",
    "    for col in categorical_cols:\n",
    "        new_data[col] = new_data[col].str.lower()\n",
    "    \n",
    "    # Reorder columns to match training data\n",
    "    new_data = new_data[expected_columns]\n",
    "    \n",
    "    try:\n",
    "        # Preprocess new data\n",
    "        new_data_preprocessed = preprocessor.transform(new_data)\n",
    "        \n",
    "        # Make predictions\n",
    "        predictions = model.predict(new_data_preprocessed)\n",
    "        probabilities = model.predict_proba(new_data_preprocessed)\n",
    "        \n",
    "        return predictions, probabilities\n",
    "    except Exception as e:\n",
    "        print(f\"Error during prediction: {str(e)}\")\n",
    "        return None, None\n",
    "\n",
    "# Example new data with raw input\n",
    "new_order = pd.DataFrame({\n",
    "    'Customer_care_calls': [3],\n",
    "    'Customer_rating': [4],\n",
    "    'Cost_of_the_Product': [200],\n",
    "    'Prior_purchases': [2],\n",
    "    'Gender': ['Male'],\n",
    "    'Discount_offered': [10],\n",
    "    'Weight_in_gms': [1200],\n",
    "    'Warehouse_block': ['A'],\n",
    "    'Mode_of_Shipment': ['Flight'],\n",
    "    'Product_importance': ['medium']  # Changed to lowercase\n",
    "})\n",
    "\n",
    "# Make prediction\n",
    "predictions, probabilities = predict_on_time_delivery(best_model, new_order, preprocessor)\n",
    "\n",
    "if predictions is not None:\n",
    "    status = \"On Time\" if predictions[0] == 1 else \"Not On Time\"\n",
    "    confidence = max(probabilities[0]) * 100\n",
    "    print(f\"Predicted Delivery Status: {status}\")\n",
    "    print(f\"Confidence: {confidence:.2f}%\")"
   ]
  }
 ],
 "metadata": {
  "kernelspec": {
   "display_name": "Python 3 (ipykernel)",
   "language": "python",
   "name": "python3"
  },
  "language_info": {
   "codemirror_mode": {
    "name": "ipython",
    "version": 3
   },
   "file_extension": ".py",
   "mimetype": "text/x-python",
   "name": "python",
   "nbconvert_exporter": "python",
   "pygments_lexer": "ipython3",
   "version": "3.12.7"
  }
 },
 "nbformat": 4,
 "nbformat_minor": 5
}
